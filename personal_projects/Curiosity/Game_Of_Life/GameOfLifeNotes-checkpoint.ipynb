{
 "cells": [
  {
   "cell_type": "code",
   "execution_count": 34,
   "metadata": {},
   "outputs": [],
   "source": [
    "import numpy as np\n",
    "import matplotlib.pyplot as plt"
   ]
  },
  {
   "cell_type": "markdown",
   "metadata": {},
   "source": [
    "<h1>np.random.randint(low, high=None, size=None, dtype=int)</h1>\n",
    "\n",
    "**Parameters**<br>\n",
    "lowint or array-like of ints<br>\n",
    "Lowest (signed) integers to be drawn from the distribution (unless high=None, in which case this parameter is one above the highest such integer).\n",
    "\n",
    "**highint or array-like of ints, optional**<br>\n",
    "If provided, one above the largest (signed) integer to be drawn from the distribution (see above for behavior if high=None). If array-like, must contain integer values\n",
    "\n",
    "**sizeint or tuple of ints, optional**<br>\n",
    "Output shape. If the given shape is, e.g., (m, n, k), then m * n * k samples are drawn.<br> \n",
    "Default is None, in which case a single value is returned.\n",
    "\n",
    "**dtypedtype, optional**<br>\n",
    "Desired dtype of the result. Byteorder must be native. The default value is int.\n",
    "\n",
    "\n",
    "**Returns**<br>\n",
    "outint or ndarray of ints<br>\n",
    "size-shaped array of random integers from the appropriate distribution, or a single such random int if size not provided.\n",
    "\n",
    "**Examples**<br>\n",
    "np.random.randint(2, size=10)<br>\n",
    "array([1, 0, 0, 0, 1, 1, 0, 0, 1, 0]) # random\n",
    "\n",
    "\n",
    "np.random.randint(1, size=10)<br>\n",
    "array([0, 0, 0, 0, 0, 0, 0, 0, 0, 0])<br>\n",
    "\n",
    "\n",
    "Generate a 2 x 4 array of ints between 0 and 4, inclusive:<br>\n",
    "\n",
    "np.random.randint(5, size=(2, 4))<br>\n",
    "array([[4, 0, 2, 1], # random<br>\n",
    "       [3, 2, 2, 0]])\n",
    "       \n",
    "<h2>Se define el llenado de un array de esta forma: ( y , x )</h2>"
   ]
  },
  {
   "cell_type": "code",
   "execution_count": 52,
   "metadata": {},
   "outputs": [
    {
     "name": "stdout",
     "output_type": "stream",
     "text": [
      "[[1 0 1 0 1 1 1 0]\n",
      " [0 1 1 1 0 0 1 1]\n",
      " [1 1 0 1 0 1 0 0]\n",
      " [0 0 1 1 1 0 0 0]\n",
      " [1 1 0 1 1 0 0 1]\n",
      " [0 0 0 0 0 1 0 0]\n",
      " [1 1 1 0 1 1 0 0]\n",
      " [1 1 1 0 1 0 1 1]\n",
      " [0 0 1 0 1 0 0 1]\n",
      " [1 0 0 0 1 1 1 1]]\n"
     ]
    }
   ],
   "source": [
    "nXC , nYC= 10 , 8\n",
    "\n",
    "gameState = np.random.randint(0,2,(nYC,nXC))\n",
    "\n",
    "print (gameState)\n"
   ]
  },
  {
   "cell_type": "markdown",
   "metadata": {},
   "source": [
    "Para obtener una pantalla toroidal se puede aplicar la fórmula:<br>\n",
    "<h2>(x-1 o x o x+1 o y...) mod (numero de celdas X o Y)<h2>"
   ]
  }
 ],
 "metadata": {
  "kernelspec": {
   "display_name": "Python 3",
   "language": "python",
   "name": "python3"
  },
  "language_info": {
   "codemirror_mode": {
    "name": "ipython",
    "version": 3
   },
   "file_extension": ".py",
   "mimetype": "text/x-python",
   "name": "python",
   "nbconvert_exporter": "python",
   "pygments_lexer": "ipython3",
   "version": "3.7.4"
  }
 },
 "nbformat": 4,
 "nbformat_minor": 2
}
